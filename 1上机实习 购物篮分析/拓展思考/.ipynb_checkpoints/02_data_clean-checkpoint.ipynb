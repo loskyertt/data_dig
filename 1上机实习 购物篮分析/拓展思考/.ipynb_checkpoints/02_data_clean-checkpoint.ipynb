{
 "cells": [
  {
   "cell_type": "code",
   "execution_count": 1,
   "id": "508b26ee-b9ca-4846-bf8b-d349332c9856",
   "metadata": {},
   "outputs": [],
   "source": [
    "import pandas as pd"
   ]
  },
  {
   "cell_type": "code",
   "execution_count": 2,
   "id": "645e375e-ebc7-4db3-8b12-0396f240b58d",
   "metadata": {},
   "outputs": [
    {
     "data": {
      "text/html": [
       "<div>\n",
       "<style scoped>\n",
       "    .dataframe tbody tr th:only-of-type {\n",
       "        vertical-align: middle;\n",
       "    }\n",
       "\n",
       "    .dataframe tbody tr th {\n",
       "        vertical-align: top;\n",
       "    }\n",
       "\n",
       "    .dataframe thead th {\n",
       "        text-align: right;\n",
       "    }\n",
       "</style>\n",
       "<table border=\"1\" class=\"dataframe\">\n",
       "  <thead>\n",
       "    <tr style=\"text-align: right;\">\n",
       "      <th></th>\n",
       "      <th>id</th>\n",
       "      <th>Goods</th>\n",
       "    </tr>\n",
       "  </thead>\n",
       "  <tbody>\n",
       "    <tr>\n",
       "      <th>0</th>\n",
       "      <td>1</td>\n",
       "      <td>柑橘类水果</td>\n",
       "    </tr>\n",
       "    <tr>\n",
       "      <th>1</th>\n",
       "      <td>1</td>\n",
       "      <td>人造黄油</td>\n",
       "    </tr>\n",
       "    <tr>\n",
       "      <th>2</th>\n",
       "      <td>1</td>\n",
       "      <td>即食汤</td>\n",
       "    </tr>\n",
       "    <tr>\n",
       "      <th>3</th>\n",
       "      <td>1</td>\n",
       "      <td>半成品面包</td>\n",
       "    </tr>\n",
       "    <tr>\n",
       "      <th>4</th>\n",
       "      <td>2</td>\n",
       "      <td>咖啡</td>\n",
       "    </tr>\n",
       "  </tbody>\n",
       "</table>\n",
       "</div>"
      ],
      "text/plain": [
       "   id  Goods\n",
       "0   1  柑橘类水果\n",
       "1   1   人造黄油\n",
       "2   1    即食汤\n",
       "3   1  半成品面包\n",
       "4   2     咖啡"
      ]
     },
     "execution_count": 2,
     "metadata": {},
     "output_type": "execute_result"
    }
   ],
   "source": [
    "data = pd.read_csv(\"GoodsOrder.csv\")\n",
    "data.head()"
   ]
  },
  {
   "cell_type": "code",
   "execution_count": 4,
   "id": "c1c3478c-5915-411d-9c4e-9c945b8cd77a",
   "metadata": {},
   "outputs": [
    {
     "data": {
      "text/plain": [
       "0    ,柑橘类水果\n",
       "1     ,人造黄油\n",
       "2      ,即食汤\n",
       "3    ,半成品面包\n",
       "4       ,咖啡\n",
       "Name: Goods, dtype: object"
      ]
     },
     "execution_count": 4,
     "metadata": {},
     "output_type": "execute_result"
    }
   ],
   "source": [
    "data['Goods'] = data['Goods'].apply(lambda x: ',' + x)\n",
    "data['Goods'].head()"
   ]
  },
  {
   "cell_type": "code",
   "execution_count": 5,
   "id": "190294db-36bb-4e8b-a2f2-441fae1b994c",
   "metadata": {},
   "outputs": [
    {
     "data": {
      "text/html": [
       "<div>\n",
       "<style scoped>\n",
       "    .dataframe tbody tr th:only-of-type {\n",
       "        vertical-align: middle;\n",
       "    }\n",
       "\n",
       "    .dataframe tbody tr th {\n",
       "        vertical-align: top;\n",
       "    }\n",
       "\n",
       "    .dataframe thead th {\n",
       "        text-align: right;\n",
       "    }\n",
       "</style>\n",
       "<table border=\"1\" class=\"dataframe\">\n",
       "  <thead>\n",
       "    <tr style=\"text-align: right;\">\n",
       "      <th></th>\n",
       "      <th>id</th>\n",
       "      <th>Goods</th>\n",
       "    </tr>\n",
       "  </thead>\n",
       "  <tbody>\n",
       "    <tr>\n",
       "      <th>0</th>\n",
       "      <td>1</td>\n",
       "      <td>,柑橘类水果,人造黄油,即食汤,半成品面包</td>\n",
       "    </tr>\n",
       "    <tr>\n",
       "      <th>1</th>\n",
       "      <td>2</td>\n",
       "      <td>,咖啡,热带水果,酸奶</td>\n",
       "    </tr>\n",
       "    <tr>\n",
       "      <th>2</th>\n",
       "      <td>3</td>\n",
       "      <td>,全脂牛奶</td>\n",
       "    </tr>\n",
       "    <tr>\n",
       "      <th>3</th>\n",
       "      <td>4</td>\n",
       "      <td>,奶油乳酪,肉泥,仁果类水果,酸奶</td>\n",
       "    </tr>\n",
       "    <tr>\n",
       "      <th>4</th>\n",
       "      <td>5</td>\n",
       "      <td>,炼乳,长面包,其他蔬菜,全脂牛奶</td>\n",
       "    </tr>\n",
       "  </tbody>\n",
       "</table>\n",
       "</div>"
      ],
      "text/plain": [
       "   id                  Goods\n",
       "0   1  ,柑橘类水果,人造黄油,即食汤,半成品面包\n",
       "1   2            ,咖啡,热带水果,酸奶\n",
       "2   3                  ,全脂牛奶\n",
       "3   4      ,奶油乳酪,肉泥,仁果类水果,酸奶\n",
       "4   5      ,炼乳,长面包,其他蔬菜,全脂牛奶"
      ]
     },
     "execution_count": 5,
     "metadata": {},
     "output_type": "execute_result"
    }
   ],
   "source": [
    "data = data.groupby('id').sum().reset_index()\n",
    "data.head()"
   ]
  },
  {
   "cell_type": "code",
   "execution_count": 6,
   "id": "caa9464e-9706-452e-9dbb-98bd2e82c3fd",
   "metadata": {},
   "outputs": [
    {
     "data": {
      "text/plain": [
       "0    [柑橘类水果,人造黄油,即食汤,半成品面包]\n",
       "1              [咖啡,热带水果,酸奶]\n",
       "2                    [全脂牛奶]\n",
       "3        [奶油乳酪,肉泥,仁果类水果,酸奶]\n",
       "4        [炼乳,长面包,其他蔬菜,全脂牛奶]\n",
       "Name: Goods, dtype: object"
      ]
     },
     "execution_count": 6,
     "metadata": {},
     "output_type": "execute_result"
    }
   ],
   "source": [
    "data['Goods'] = data['Goods'].apply(lambda x: [x[1:]])\n",
    "data['Goods'].head()"
   ]
  },
  {
   "cell_type": "code",
   "execution_count": 10,
   "id": "eea90f05-6f80-4096-8d23-a32d4665b7f1",
   "metadata": {},
   "outputs": [
    {
     "data": {
      "text/plain": [
       "[['柑橘类水果,人造黄油,即食汤,半成品面包'],\n",
       " ['咖啡,热带水果,酸奶'],\n",
       " ['全脂牛奶'],\n",
       " ['奶油乳酪,肉泥,仁果类水果,酸奶'],\n",
       " ['炼乳,长面包,其他蔬菜,全脂牛奶']]"
      ]
     },
     "execution_count": 10,
     "metadata": {},
     "output_type": "execute_result"
    }
   ],
   "source": [
    "data_list = list(data['Goods'])\n",
    "data_list[0: 5]"
   ]
  },
  {
   "cell_type": "code",
   "execution_count": 14,
   "id": "9166d16b-1d47-4e61-8466-531419e64793",
   "metadata": {},
   "outputs": [
    {
     "data": {
      "text/plain": [
       "[['柑橘类水果', '人造黄油', '即食汤', '半成品面包'],\n",
       " ['咖啡', '热带水果', '酸奶'],\n",
       " ['全脂牛奶'],\n",
       " ['奶油乳酪', '肉泥', '仁果类水果', '酸奶'],\n",
       " ['炼乳', '长面包', '其他蔬菜', '全脂牛奶']]"
      ]
     },
     "execution_count": 14,
     "metadata": {},
     "output_type": "execute_result"
    }
   ],
   "source": [
    "# 分割商品名为每个元素\n",
    "data_transaction = []\n",
    "for i in data_list:\n",
    "    p = i[0].split(',')\n",
    "    data_transaction.append(p)\n",
    "\n",
    "data_transaction[0: 5]"
   ]
  },
  {
   "cell_type": "code",
   "execution_count": null,
   "id": "df6200b7-b8f8-452f-aa21-9016ddfdc5ed",
   "metadata": {},
   "outputs": [],
   "source": []
  }
 ],
 "metadata": {
  "kernelspec": {
   "display_name": "Python 3 (ipykernel)",
   "language": "python",
   "name": "python3"
  },
  "language_info": {
   "codemirror_mode": {
    "name": "ipython",
    "version": 3
   },
   "file_extension": ".py",
   "mimetype": "text/x-python",
   "name": "python",
   "nbconvert_exporter": "python",
   "pygments_lexer": "ipython3",
   "version": "3.12.2"
  }
 },
 "nbformat": 4,
 "nbformat_minor": 5
}
