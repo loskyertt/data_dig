{
 "cells": [
  {
   "cell_type": "code",
   "execution_count": 1,
   "id": "bc811361-2751-4596-ba06-2daa136d9d99",
   "metadata": {},
   "outputs": [],
   "source": [
    "import numpy"
   ]
  },
  {
   "cell_type": "code",
   "execution_count": 2,
   "id": "ca748591-8c29-4ecd-8948-cfa96eafb500",
   "metadata": {},
   "outputs": [],
   "source": [
    "# 加载数据集\n",
    "def loadDataSet():\n",
    "    return [[1, 3, 4], [2, 3, 5], [1, 2, 3, 5], [2, 5]]"
   ]
  },
  {
   "cell_type": "code",
   "execution_count": 3,
   "id": "5ea04caf-5192-4855-af81-9ab563359731",
   "metadata": {},
   "outputs": [],
   "source": [
    "'''创建集合C1即对dataSet去重排序'''\n",
    "def createC1(dataSet):\n",
    "    C1 = []\n",
    "    for transaction in dataSet:\n",
    "        for item in transaction:\n",
    "            if not [item] in C1:\n",
    "                C1.append([item])\n",
    "    C1.sort()\n",
    "    # frozenset表示冻结的set 集合，元素无改变把它当字典的 key 来使用\n",
    "    # return C1\n",
    "    return map(frozenset, C1)"
   ]
  },
  {
   "cell_type": "code",
   "execution_count": 4,
   "id": "43ae7d0e-4e73-44ef-8811-0c24816cce11",
   "metadata": {},
   "outputs": [
    {
     "data": {
      "text/plain": [
       "[[1], [2], [3], [4], [5]]"
      ]
     },
     "execution_count": 4,
     "metadata": {},
     "output_type": "execute_result"
    }
   ],
   "source": [
    "dataset = loadDataSet()\n",
    "C1 = createC1(dataset)\n",
    "C1"
   ]
  },
  {
   "cell_type": "code",
   "execution_count": null,
   "id": "864272ab-c0fe-4791-a825-32f3e85203d5",
   "metadata": {},
   "outputs": [],
   "source": []
  }
 ],
 "metadata": {
  "kernelspec": {
   "display_name": "Python 3 (ipykernel)",
   "language": "python",
   "name": "python3"
  },
  "language_info": {
   "codemirror_mode": {
    "name": "ipython",
    "version": 3
   },
   "file_extension": ".py",
   "mimetype": "text/x-python",
   "name": "python",
   "nbconvert_exporter": "python",
   "pygments_lexer": "ipython3",
   "version": "3.12.2"
  }
 },
 "nbformat": 4,
 "nbformat_minor": 5
}
