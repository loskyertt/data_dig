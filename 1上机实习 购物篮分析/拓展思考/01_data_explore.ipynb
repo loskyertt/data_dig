{
 "cells": [
  {
   "cell_type": "code",
   "execution_count": 34,
   "id": "0cfdc812-aa4c-4b59-8810-d2bfcf9f84e3",
   "metadata": {},
   "outputs": [],
   "source": [
    "import numpy as np\n",
    "import pandas as pd"
   ]
  },
  {
   "cell_type": "markdown",
   "id": "7a13bcbf-1a7f-4d8e-a0f3-a2b9496ce7e1",
   "metadata": {},
   "source": [
    "# 1.查看数据特征"
   ]
  },
  {
   "cell_type": "code",
   "execution_count": 35,
   "id": "1b364819-c2ec-4435-8f3b-3cf48757bfda",
   "metadata": {},
   "outputs": [
    {
     "name": "stdout",
     "output_type": "stream",
     "text": [
      "<class 'pandas.core.frame.DataFrame'>\n",
      "RangeIndex: 43367 entries, 0 to 43366\n",
      "Data columns (total 2 columns):\n",
      " #   Column  Non-Null Count  Dtype \n",
      "---  ------  --------------  ----- \n",
      " 0   id      43367 non-null  int64 \n",
      " 1   Goods   43367 non-null  object\n",
      "dtypes: int64(1), object(1)\n",
      "memory usage: 677.7+ KB\n"
     ]
    }
   ],
   "source": [
    "inputfile = 'GoodsOrder.csv'\n",
    "data = pd.read_csv(inputfile)\n",
    "data.info()"
   ]
  },
  {
   "cell_type": "code",
   "execution_count": 36,
   "id": "4d189863-7f22-4378-b3ae-52dae5b57b1b",
   "metadata": {},
   "outputs": [
    {
     "data": {
      "text/html": [
       "<div>\n",
       "<style scoped>\n",
       "    .dataframe tbody tr th:only-of-type {\n",
       "        vertical-align: middle;\n",
       "    }\n",
       "\n",
       "    .dataframe tbody tr th {\n",
       "        vertical-align: top;\n",
       "    }\n",
       "\n",
       "    .dataframe thead th {\n",
       "        text-align: right;\n",
       "    }\n",
       "</style>\n",
       "<table border=\"1\" class=\"dataframe\">\n",
       "  <thead>\n",
       "    <tr style=\"text-align: right;\">\n",
       "      <th></th>\n",
       "      <th>id</th>\n",
       "      <th>Goods</th>\n",
       "    </tr>\n",
       "  </thead>\n",
       "  <tbody>\n",
       "    <tr>\n",
       "      <th>0</th>\n",
       "      <td>1</td>\n",
       "      <td>柑橘类水果</td>\n",
       "    </tr>\n",
       "    <tr>\n",
       "      <th>1</th>\n",
       "      <td>1</td>\n",
       "      <td>人造黄油</td>\n",
       "    </tr>\n",
       "    <tr>\n",
       "      <th>2</th>\n",
       "      <td>1</td>\n",
       "      <td>即食汤</td>\n",
       "    </tr>\n",
       "    <tr>\n",
       "      <th>3</th>\n",
       "      <td>1</td>\n",
       "      <td>半成品面包</td>\n",
       "    </tr>\n",
       "    <tr>\n",
       "      <th>4</th>\n",
       "      <td>2</td>\n",
       "      <td>咖啡</td>\n",
       "    </tr>\n",
       "  </tbody>\n",
       "</table>\n",
       "</div>"
      ],
      "text/plain": [
       "   id  Goods\n",
       "0   1  柑橘类水果\n",
       "1   1   人造黄油\n",
       "2   1    即食汤\n",
       "3   1  半成品面包\n",
       "4   2     咖啡"
      ]
     },
     "execution_count": 36,
     "metadata": {},
     "output_type": "execute_result"
    }
   ],
   "source": [
    "data.head()"
   ]
  },
  {
   "cell_type": "code",
   "execution_count": 37,
   "id": "e6672d2a-a676-4422-ba04-dbae26a52099",
   "metadata": {},
   "outputs": [
    {
     "name": "stdout",
     "output_type": "stream",
     "text": [
      "描述性统计结果：\n",
      "    Count  Min   Max\n",
      "0  43367    1  9835\n"
     ]
    }
   ],
   "source": [
    "data = data['id']\n",
    "description = [data.count(),data.min(), data.max()]  # 依次计算总数、最小值、最大值\n",
    "description = pd.DataFrame(description, index = ['Count','Min', 'Max']).T  # 将结果存入数据框\n",
    "print('描述性统计结果：\\n',np.round(description))  # 输出结果"
   ]
  },
  {
   "cell_type": "markdown",
   "id": "5bd6adc1-faa7-4c83-b19a-794bcefd07ad",
   "metadata": {},
   "source": [
    "# 2.分析热销商品"
   ]
  },
  {
   "cell_type": "markdown",
   "id": "dc71a326-3c09-42d1-a3d6-1e61b052290c",
   "metadata": {},
   "source": [
    "# 2.1 对商品进行分类汇总"
   ]
  },
  {
   "cell_type": "code",
   "execution_count": 38,
   "id": "14f59bd5-dfa2-4c83-afc6-eab28a69b2df",
   "metadata": {},
   "outputs": [],
   "source": [
    "import pandas as pd"
   ]
  },
  {
   "cell_type": "code",
   "execution_count": 39,
   "id": "3977ccd5-0880-4103-9df4-441faf27b181",
   "metadata": {},
   "outputs": [],
   "source": [
    "data = pd.read_csv(\"GoodsOrder.csv\")"
   ]
  },
  {
   "cell_type": "code",
   "execution_count": 40,
   "id": "cb7594e6-badd-494f-9059-7c1e1b4bff78",
   "metadata": {},
   "outputs": [
    {
     "data": {
      "text/html": [
       "<div>\n",
       "<style scoped>\n",
       "    .dataframe tbody tr th:only-of-type {\n",
       "        vertical-align: middle;\n",
       "    }\n",
       "\n",
       "    .dataframe tbody tr th {\n",
       "        vertical-align: top;\n",
       "    }\n",
       "\n",
       "    .dataframe thead th {\n",
       "        text-align: right;\n",
       "    }\n",
       "</style>\n",
       "<table border=\"1\" class=\"dataframe\">\n",
       "  <thead>\n",
       "    <tr style=\"text-align: right;\">\n",
       "      <th></th>\n",
       "      <th>Goods</th>\n",
       "      <th>id</th>\n",
       "    </tr>\n",
       "  </thead>\n",
       "  <tbody>\n",
       "    <tr>\n",
       "      <th>0</th>\n",
       "      <td>一般清洁剂</td>\n",
       "      <td>189</td>\n",
       "    </tr>\n",
       "    <tr>\n",
       "      <th>1</th>\n",
       "      <td>一般肉类</td>\n",
       "      <td>254</td>\n",
       "    </tr>\n",
       "    <tr>\n",
       "      <th>2</th>\n",
       "      <td>一般饮料</td>\n",
       "      <td>256</td>\n",
       "    </tr>\n",
       "    <tr>\n",
       "      <th>3</th>\n",
       "      <td>人造黄油</td>\n",
       "      <td>576</td>\n",
       "    </tr>\n",
       "    <tr>\n",
       "      <th>4</th>\n",
       "      <td>仁果类水果</td>\n",
       "      <td>744</td>\n",
       "    </tr>\n",
       "  </tbody>\n",
       "</table>\n",
       "</div>"
      ],
      "text/plain": [
       "   Goods   id\n",
       "0  一般清洁剂  189\n",
       "1   一般肉类  254\n",
       "2   一般饮料  256\n",
       "3   人造黄油  576\n",
       "4  仁果类水果  744"
      ]
     },
     "execution_count": 40,
     "metadata": {},
     "output_type": "execute_result"
    }
   ],
   "source": [
    "group = data.groupby(['Goods']).count().reset_index()\n",
    "group.head()"
   ]
  },
  {
   "cell_type": "code",
   "execution_count": 41,
   "id": "f07e8aeb-ae80-4dbe-be6e-3c5cd8efb458",
   "metadata": {},
   "outputs": [
    {
     "data": {
      "text/html": [
       "<div>\n",
       "<style scoped>\n",
       "    .dataframe tbody tr th:only-of-type {\n",
       "        vertical-align: middle;\n",
       "    }\n",
       "\n",
       "    .dataframe tbody tr th {\n",
       "        vertical-align: top;\n",
       "    }\n",
       "\n",
       "    .dataframe thead th {\n",
       "        text-align: right;\n",
       "    }\n",
       "</style>\n",
       "<table border=\"1\" class=\"dataframe\">\n",
       "  <thead>\n",
       "    <tr style=\"text-align: right;\">\n",
       "      <th></th>\n",
       "      <th>Goods</th>\n",
       "      <th>id</th>\n",
       "    </tr>\n",
       "  </thead>\n",
       "  <tbody>\n",
       "    <tr>\n",
       "      <th>7</th>\n",
       "      <td>全脂牛奶</td>\n",
       "      <td>2513</td>\n",
       "    </tr>\n",
       "    <tr>\n",
       "      <th>8</th>\n",
       "      <td>其他蔬菜</td>\n",
       "      <td>1903</td>\n",
       "    </tr>\n",
       "    <tr>\n",
       "      <th>155</th>\n",
       "      <td>面包卷</td>\n",
       "      <td>1809</td>\n",
       "    </tr>\n",
       "    <tr>\n",
       "      <th>134</th>\n",
       "      <td>苏打</td>\n",
       "      <td>1715</td>\n",
       "    </tr>\n",
       "    <tr>\n",
       "      <th>150</th>\n",
       "      <td>酸奶</td>\n",
       "      <td>1372</td>\n",
       "    </tr>\n",
       "    <tr>\n",
       "      <th>99</th>\n",
       "      <td>瓶装水</td>\n",
       "      <td>1087</td>\n",
       "    </tr>\n",
       "    <tr>\n",
       "      <th>70</th>\n",
       "      <td>根茎类蔬菜</td>\n",
       "      <td>1072</td>\n",
       "    </tr>\n",
       "    <tr>\n",
       "      <th>85</th>\n",
       "      <td>热带水果</td>\n",
       "      <td>1032</td>\n",
       "    </tr>\n",
       "    <tr>\n",
       "      <th>143</th>\n",
       "      <td>购物袋</td>\n",
       "      <td>969</td>\n",
       "    </tr>\n",
       "    <tr>\n",
       "      <th>160</th>\n",
       "      <td>香肠</td>\n",
       "      <td>924</td>\n",
       "    </tr>\n",
       "  </tbody>\n",
       "</table>\n",
       "</div>"
      ],
      "text/plain": [
       "     Goods    id\n",
       "7     全脂牛奶  2513\n",
       "8     其他蔬菜  1903\n",
       "155    面包卷  1809\n",
       "134     苏打  1715\n",
       "150     酸奶  1372\n",
       "99     瓶装水  1087\n",
       "70   根茎类蔬菜  1072\n",
       "85    热带水果  1032\n",
       "143    购物袋   969\n",
       "160     香肠   924"
      ]
     },
     "execution_count": 41,
     "metadata": {},
     "output_type": "execute_result"
    }
   ],
   "source": [
    "sorted = group.sort_values('id', ascending=False)\n",
    "sorted.head(10)"
   ]
  },
  {
   "cell_type": "markdown",
   "id": "b4d8c941-1854-406d-927b-af9d24d20402",
   "metadata": {},
   "source": [
    "## 2.2 可视化分析"
   ]
  },
  {
   "cell_type": "code",
   "execution_count": 42,
   "id": "3991b204-acbd-4145-8274-640f3f61de25",
   "metadata": {},
   "outputs": [],
   "source": [
    "import matplotlib.pyplot as plt\n",
    "%matplotlib inline"
   ]
  },
  {
   "cell_type": "code",
   "execution_count": 43,
   "id": "fc4a7071-4c3f-4d39-b4f7-7d9277d8aebe",
   "metadata": {},
   "outputs": [
    {
     "data": {
      "text/plain": [
       "7       全脂牛奶\n",
       "8       其他蔬菜\n",
       "155      面包卷\n",
       "134       苏打\n",
       "150       酸奶\n",
       "99       瓶装水\n",
       "70     根茎类蔬菜\n",
       "85      热带水果\n",
       "143      购物袋\n",
       "160       香肠\n",
       "Name: Goods, dtype: object"
      ]
     },
     "execution_count": 43,
     "metadata": {},
     "output_type": "execute_result"
    }
   ],
   "source": [
    "x = sorted[:10]['Goods']\n",
    "x"
   ]
  },
  {
   "cell_type": "code",
   "execution_count": 44,
   "id": "ee9234ca-393a-4e30-afdb-c321172e3314",
   "metadata": {},
   "outputs": [
    {
     "data": {
      "text/plain": [
       "7      2513\n",
       "8      1903\n",
       "155    1809\n",
       "134    1715\n",
       "150    1372\n",
       "99     1087\n",
       "70     1072\n",
       "85     1032\n",
       "143     969\n",
       "160     924\n",
       "Name: id, dtype: int64"
      ]
     },
     "execution_count": 44,
     "metadata": {},
     "output_type": "execute_result"
    }
   ],
   "source": [
    "y = sorted[0:10]['id']\n",
    "y"
   ]
  },
  {
   "cell_type": "code",
   "execution_count": 45,
   "id": "6c4b5b60-f5f2-4bc5-9ac8-76a1ba106ffa",
   "metadata": {},
   "outputs": [
    {
     "data": {
      "image/png": "[encoded data removed]",
      "text/plain": [
       "<Figure size 800x400 with 1 Axes>"
      ]
     },
     "metadata": {},
     "output_type": "display_data"
    }
   ],
   "source": [
    "plt.figure(figsize=(8, 4))\n",
    "plt.barh(x, y)\n",
    "plt.xlabel(\"销量\")\n",
    "plt.ylabel(\"商品类别\")\n",
    "plt.title(\"商品的销量TOP10\")\n",
    "plt.savefig(\"./tmp/top10.png\")\n",
    "plt.show()"
   ]
  },
  {
   "cell_type": "markdown",
   "id": "72ac9185-d22c-4e68-9f33-94187df4c224",
   "metadata": {},
   "source": [
    "# 2.3 销量排行前10商品销量占比"
   ]
  },
  {
   "cell_type": "code",
   "execution_count": 46,
   "id": "e79ebce1-e80a-4dd2-8a5a-25077f0b08a1",
   "metadata": {},
   "outputs": [
    {
     "data": {
      "text/plain": [
       "43367"
      ]
     },
     "execution_count": 46,
     "metadata": {},
     "output_type": "execute_result"
    }
   ],
   "source": [
    "data_nums = data.shape[0]\n",
    "data_nums"
   ]
  },
  {
   "cell_type": "code",
   "execution_count": 47,
   "id": "42c88779-468d-4b7b-940d-47913757e46d",
   "metadata": {},
   "outputs": [
    {
     "name": "stdout",
     "output_type": "stream",
     "text": [
      "全脂牛奶 2513 0.05794728710770863\n",
      "其他蔬菜 1903 0.0438812922268084\n",
      "面包卷 1809 0.04171374547466968\n",
      "苏打 1715 0.039546198722530956\n",
      "酸奶 1372 0.031636958978024765\n",
      "瓶装水 1087 0.025065141697604168\n",
      "根茎类蔬菜 1072 0.024719256577582033\n",
      "热带水果 1032 0.023796896257523\n",
      "购物袋 969 0.022344178753430026\n",
      "香肠 924 0.021306523393363617\n"
     ]
    }
   ],
   "source": [
    "for idnex, row in sorted[:10].iterrows():\n",
    "    print(row['Goods'], row['id'], row['id']/data_nums)"
   ]
  },
  {
   "cell_type": "markdown",
   "id": "ff40ea6c-f268-42b3-959f-ed6e42056d1b",
   "metadata": {},
   "source": [
    "# 3.各类别商品的销量及占比"
   ]
  },
  {
   "cell_type": "code",
   "execution_count": 48,
   "id": "277e6deb-12eb-47cc-854e-11fe0fc32aad",
   "metadata": {},
   "outputs": [],
   "source": [
    "import pandas as pd"
   ]
  },
  {
   "cell_type": "code",
   "execution_count": 49,
   "id": "8007ec94-a396-40ae-b434-70d26a6b6711",
   "metadata": {},
   "outputs": [],
   "source": [
    "inputfile1 = 'GoodsOrder.csv'\n",
    "inputfile2 = 'GoodsTypes.csv'\n",
    "data = pd.read_csv(inputfile1)\n",
    "types = pd.read_csv(inputfile2)"
   ]
  },
  {
   "cell_type": "code",
   "execution_count": 50,
   "id": "1df6317f-79b8-4607-8312-517add1f4b0f",
   "metadata": {},
   "outputs": [
    {
     "data": {
      "text/html": [
       "<div>\n",
       "<style scoped>\n",
       "    .dataframe tbody tr th:only-of-type {\n",
       "        vertical-align: middle;\n",
       "    }\n",
       "\n",
       "    .dataframe tbody tr th {\n",
       "        vertical-align: top;\n",
       "    }\n",
       "\n",
       "    .dataframe thead th {\n",
       "        text-align: right;\n",
       "    }\n",
       "</style>\n",
       "<table border=\"1\" class=\"dataframe\">\n",
       "  <thead>\n",
       "    <tr style=\"text-align: right;\">\n",
       "      <th></th>\n",
       "      <th>id</th>\n",
       "      <th>Goods</th>\n",
       "    </tr>\n",
       "  </thead>\n",
       "  <tbody>\n",
       "    <tr>\n",
       "      <th>0</th>\n",
       "      <td>1</td>\n",
       "      <td>柑橘类水果</td>\n",
       "    </tr>\n",
       "    <tr>\n",
       "      <th>1</th>\n",
       "      <td>1</td>\n",
       "      <td>人造黄油</td>\n",
       "    </tr>\n",
       "    <tr>\n",
       "      <th>2</th>\n",
       "      <td>1</td>\n",
       "      <td>即食汤</td>\n",
       "    </tr>\n",
       "    <tr>\n",
       "      <th>3</th>\n",
       "      <td>1</td>\n",
       "      <td>半成品面包</td>\n",
       "    </tr>\n",
       "    <tr>\n",
       "      <th>4</th>\n",
       "      <td>2</td>\n",
       "      <td>咖啡</td>\n",
       "    </tr>\n",
       "  </tbody>\n",
       "</table>\n",
       "</div>"
      ],
      "text/plain": [
       "   id  Goods\n",
       "0   1  柑橘类水果\n",
       "1   1   人造黄油\n",
       "2   1    即食汤\n",
       "3   1  半成品面包\n",
       "4   2     咖啡"
      ]
     },
     "execution_count": 50,
     "metadata": {},
     "output_type": "execute_result"
    }
   ],
   "source": [
    "data.head()"
   ]
  },
  {
   "cell_type": "code",
   "execution_count": 51,
   "id": "879a0210-26ed-4d8a-9bdb-204fd5fc2c2f",
   "metadata": {},
   "outputs": [
    {
     "data": {
      "text/html": [
       "<div>\n",
       "<style scoped>\n",
       "    .dataframe tbody tr th:only-of-type {\n",
       "        vertical-align: middle;\n",
       "    }\n",
       "\n",
       "    .dataframe tbody tr th {\n",
       "        vertical-align: top;\n",
       "    }\n",
       "\n",
       "    .dataframe thead th {\n",
       "        text-align: right;\n",
       "    }\n",
       "</style>\n",
       "<table border=\"1\" class=\"dataframe\">\n",
       "  <thead>\n",
       "    <tr style=\"text-align: right;\">\n",
       "      <th></th>\n",
       "      <th>Goods</th>\n",
       "      <th>Types</th>\n",
       "    </tr>\n",
       "  </thead>\n",
       "  <tbody>\n",
       "    <tr>\n",
       "      <th>0</th>\n",
       "      <td>白饭</td>\n",
       "      <td>熟食</td>\n",
       "    </tr>\n",
       "    <tr>\n",
       "      <th>1</th>\n",
       "      <td>白酒</td>\n",
       "      <td>酒精饮料</td>\n",
       "    </tr>\n",
       "    <tr>\n",
       "      <th>2</th>\n",
       "      <td>白兰地</td>\n",
       "      <td>酒精饮料</td>\n",
       "    </tr>\n",
       "    <tr>\n",
       "      <th>3</th>\n",
       "      <td>白面包</td>\n",
       "      <td>西点</td>\n",
       "    </tr>\n",
       "    <tr>\n",
       "      <th>4</th>\n",
       "      <td>半成品面包</td>\n",
       "      <td>西点</td>\n",
       "    </tr>\n",
       "  </tbody>\n",
       "</table>\n",
       "</div>"
      ],
      "text/plain": [
       "   Goods Types\n",
       "0     白饭    熟食\n",
       "1     白酒  酒精饮料\n",
       "2    白兰地  酒精饮料\n",
       "3    白面包    西点\n",
       "4  半成品面包    西点"
      ]
     },
     "execution_count": 51,
     "metadata": {},
     "output_type": "execute_result"
    }
   ],
   "source": [
    "types.head()"
   ]
  },
  {
   "cell_type": "code",
   "execution_count": 52,
   "id": "80df9063-c1b5-4d6b-9de1-cf8c4c2525cf",
   "metadata": {},
   "outputs": [
    {
     "data": {
      "text/html": [
       "<div>\n",
       "<style scoped>\n",
       "    .dataframe tbody tr th:only-of-type {\n",
       "        vertical-align: middle;\n",
       "    }\n",
       "\n",
       "    .dataframe tbody tr th {\n",
       "        vertical-align: top;\n",
       "    }\n",
       "\n",
       "    .dataframe thead th {\n",
       "        text-align: right;\n",
       "    }\n",
       "</style>\n",
       "<table border=\"1\" class=\"dataframe\">\n",
       "  <thead>\n",
       "    <tr style=\"text-align: right;\">\n",
       "      <th></th>\n",
       "      <th>Goods</th>\n",
       "      <th>id</th>\n",
       "    </tr>\n",
       "  </thead>\n",
       "  <tbody>\n",
       "    <tr>\n",
       "      <th>0</th>\n",
       "      <td>一般清洁剂</td>\n",
       "      <td>189</td>\n",
       "    </tr>\n",
       "    <tr>\n",
       "      <th>1</th>\n",
       "      <td>一般肉类</td>\n",
       "      <td>254</td>\n",
       "    </tr>\n",
       "    <tr>\n",
       "      <th>2</th>\n",
       "      <td>一般饮料</td>\n",
       "      <td>256</td>\n",
       "    </tr>\n",
       "    <tr>\n",
       "      <th>3</th>\n",
       "      <td>人造黄油</td>\n",
       "      <td>576</td>\n",
       "    </tr>\n",
       "    <tr>\n",
       "      <th>4</th>\n",
       "      <td>仁果类水果</td>\n",
       "      <td>744</td>\n",
       "    </tr>\n",
       "  </tbody>\n",
       "</table>\n",
       "</div>"
      ],
      "text/plain": [
       "   Goods   id\n",
       "0  一般清洁剂  189\n",
       "1   一般肉类  254\n",
       "2   一般饮料  256\n",
       "3   人造黄油  576\n",
       "4  仁果类水果  744"
      ]
     },
     "execution_count": 52,
     "metadata": {},
     "output_type": "execute_result"
    }
   ],
   "source": [
    "group = data.groupby(['Goods']).count().reset_index()\n",
    "group.head()"
   ]
  },
  {
   "cell_type": "code",
   "execution_count": 53,
   "id": "895f8189-c838-42ca-9735-6d18ea09b7e5",
   "metadata": {},
   "outputs": [
    {
     "data": {
      "text/html": [
       "<div>\n",
       "<style scoped>\n",
       "    .dataframe tbody tr th:only-of-type {\n",
       "        vertical-align: middle;\n",
       "    }\n",
       "\n",
       "    .dataframe tbody tr th {\n",
       "        vertical-align: top;\n",
       "    }\n",
       "\n",
       "    .dataframe thead th {\n",
       "        text-align: right;\n",
       "    }\n",
       "</style>\n",
       "<table border=\"1\" class=\"dataframe\">\n",
       "  <thead>\n",
       "    <tr style=\"text-align: right;\">\n",
       "      <th></th>\n",
       "      <th>index</th>\n",
       "      <th>Goods</th>\n",
       "      <th>id</th>\n",
       "    </tr>\n",
       "  </thead>\n",
       "  <tbody>\n",
       "    <tr>\n",
       "      <th>0</th>\n",
       "      <td>7</td>\n",
       "      <td>全脂牛奶</td>\n",
       "      <td>2513</td>\n",
       "    </tr>\n",
       "    <tr>\n",
       "      <th>1</th>\n",
       "      <td>8</td>\n",
       "      <td>其他蔬菜</td>\n",
       "      <td>1903</td>\n",
       "    </tr>\n",
       "    <tr>\n",
       "      <th>2</th>\n",
       "      <td>155</td>\n",
       "      <td>面包卷</td>\n",
       "      <td>1809</td>\n",
       "    </tr>\n",
       "    <tr>\n",
       "      <th>3</th>\n",
       "      <td>134</td>\n",
       "      <td>苏打</td>\n",
       "      <td>1715</td>\n",
       "    </tr>\n",
       "    <tr>\n",
       "      <th>4</th>\n",
       "      <td>150</td>\n",
       "      <td>酸奶</td>\n",
       "      <td>1372</td>\n",
       "    </tr>\n",
       "  </tbody>\n",
       "</table>\n",
       "</div>"
      ],
      "text/plain": [
       "   index Goods    id\n",
       "0      7  全脂牛奶  2513\n",
       "1      8  其他蔬菜  1903\n",
       "2    155   面包卷  1809\n",
       "3    134    苏打  1715\n",
       "4    150    酸奶  1372"
      ]
     },
     "execution_count": 53,
     "metadata": {},
     "output_type": "execute_result"
    }
   ],
   "source": [
    "sort = group.sort_values('id', ascending=False).reset_index()\n",
    "sort.head()"
   ]
  },
  {
   "cell_type": "code",
   "execution_count": 54,
   "id": "d30ef341-b256-4172-95aa-d49927beab3c",
   "metadata": {},
   "outputs": [
    {
     "data": {
      "text/plain": [
       "43367"
      ]
     },
     "execution_count": 54,
     "metadata": {},
     "output_type": "execute_result"
    }
   ],
   "source": [
    "data_nums = data.shape[0]\n",
    "data_nums"
   ]
  },
  {
   "cell_type": "code",
   "execution_count": 55,
   "id": "9b4b23de-3498-45c8-8bc7-8f7cc66ad5c2",
   "metadata": {},
   "outputs": [
    {
     "data": {
      "text/html": [
       "<div>\n",
       "<style scoped>\n",
       "    .dataframe tbody tr th:only-of-type {\n",
       "        vertical-align: middle;\n",
       "    }\n",
       "\n",
       "    .dataframe tbody tr th {\n",
       "        vertical-align: top;\n",
       "    }\n",
       "\n",
       "    .dataframe thead th {\n",
       "        text-align: right;\n",
       "    }\n",
       "</style>\n",
       "<table border=\"1\" class=\"dataframe\">\n",
       "  <thead>\n",
       "    <tr style=\"text-align: right;\">\n",
       "      <th></th>\n",
       "      <th>Goods</th>\n",
       "      <th>id</th>\n",
       "    </tr>\n",
       "  </thead>\n",
       "  <tbody>\n",
       "    <tr>\n",
       "      <th>0</th>\n",
       "      <td>全脂牛奶</td>\n",
       "      <td>2513</td>\n",
       "    </tr>\n",
       "    <tr>\n",
       "      <th>1</th>\n",
       "      <td>其他蔬菜</td>\n",
       "      <td>1903</td>\n",
       "    </tr>\n",
       "    <tr>\n",
       "      <th>2</th>\n",
       "      <td>面包卷</td>\n",
       "      <td>1809</td>\n",
       "    </tr>\n",
       "    <tr>\n",
       "      <th>3</th>\n",
       "      <td>苏打</td>\n",
       "      <td>1715</td>\n",
       "    </tr>\n",
       "    <tr>\n",
       "      <th>4</th>\n",
       "      <td>酸奶</td>\n",
       "      <td>1372</td>\n",
       "    </tr>\n",
       "  </tbody>\n",
       "</table>\n",
       "</div>"
      ],
      "text/plain": [
       "  Goods    id\n",
       "0  全脂牛奶  2513\n",
       "1  其他蔬菜  1903\n",
       "2   面包卷  1809\n",
       "3    苏打  1715\n",
       "4    酸奶  1372"
      ]
     },
     "execution_count": 55,
     "metadata": {},
     "output_type": "execute_result"
    }
   ],
   "source": [
    "del sort['index'] # 删除索引\n",
    "sort.head()"
   ]
  },
  {
   "cell_type": "code",
   "execution_count": 56,
   "id": "7fdbcf17-23aa-4184-9d91-9dc989982438",
   "metadata": {},
   "outputs": [
    {
     "data": {
      "text/html": [
       "<div>\n",
       "<style scoped>\n",
       "    .dataframe tbody tr th:only-of-type {\n",
       "        vertical-align: middle;\n",
       "    }\n",
       "\n",
       "    .dataframe tbody tr th {\n",
       "        vertical-align: top;\n",
       "    }\n",
       "\n",
       "    .dataframe thead th {\n",
       "        text-align: right;\n",
       "    }\n",
       "</style>\n",
       "<table border=\"1\" class=\"dataframe\">\n",
       "  <thead>\n",
       "    <tr style=\"text-align: right;\">\n",
       "      <th></th>\n",
       "      <th>Goods</th>\n",
       "      <th>id</th>\n",
       "      <th>Types</th>\n",
       "    </tr>\n",
       "  </thead>\n",
       "  <tbody>\n",
       "    <tr>\n",
       "      <th>0</th>\n",
       "      <td>全脂牛奶</td>\n",
       "      <td>2513</td>\n",
       "      <td>非酒精饮料</td>\n",
       "    </tr>\n",
       "    <tr>\n",
       "      <th>1</th>\n",
       "      <td>其他蔬菜</td>\n",
       "      <td>1903</td>\n",
       "      <td>果蔬</td>\n",
       "    </tr>\n",
       "    <tr>\n",
       "      <th>2</th>\n",
       "      <td>面包卷</td>\n",
       "      <td>1809</td>\n",
       "      <td>西点</td>\n",
       "    </tr>\n",
       "    <tr>\n",
       "      <th>3</th>\n",
       "      <td>苏打</td>\n",
       "      <td>1715</td>\n",
       "      <td>非酒精饮料</td>\n",
       "    </tr>\n",
       "    <tr>\n",
       "      <th>4</th>\n",
       "      <td>酸奶</td>\n",
       "      <td>1372</td>\n",
       "      <td>食品类</td>\n",
       "    </tr>\n",
       "  </tbody>\n",
       "</table>\n",
       "</div>"
      ],
      "text/plain": [
       "  Goods    id  Types\n",
       "0  全脂牛奶  2513  非酒精饮料\n",
       "1  其他蔬菜  1903     果蔬\n",
       "2   面包卷  1809     西点\n",
       "3    苏打  1715  非酒精饮料\n",
       "4    酸奶  1372    食品类"
      ]
     },
     "execution_count": 56,
     "metadata": {},
     "output_type": "execute_result"
    }
   ],
   "source": [
    "sort_links = pd.merge(sort, types)\n",
    "sort_links.head()"
   ]
  },
  {
   "cell_type": "markdown",
   "id": "377feb9c-b7f9-43c7-9a0f-2a134d882984",
   "metadata": {},
   "source": [
    "## 3.1 根据类别求和并排序"
   ]
  },
  {
   "cell_type": "code",
   "execution_count": 57,
   "id": "3c49bd98-e381-4ecc-85d2-d7602fca7e14",
   "metadata": {},
   "outputs": [
    {
     "data": {
      "text/html": [
       "<div>\n",
       "<style scoped>\n",
       "    .dataframe tbody tr th:only-of-type {\n",
       "        vertical-align: middle;\n",
       "    }\n",
       "\n",
       "    .dataframe tbody tr th {\n",
       "        vertical-align: top;\n",
       "    }\n",
       "\n",
       "    .dataframe thead th {\n",
       "        text-align: right;\n",
       "    }\n",
       "</style>\n",
       "<table border=\"1\" class=\"dataframe\">\n",
       "  <thead>\n",
       "    <tr style=\"text-align: right;\">\n",
       "      <th></th>\n",
       "      <th>Types</th>\n",
       "      <th>Goods</th>\n",
       "      <th>id</th>\n",
       "    </tr>\n",
       "  </thead>\n",
       "  <tbody>\n",
       "    <tr>\n",
       "      <th>0</th>\n",
       "      <td>果蔬</td>\n",
       "      <td>其他蔬菜根茎类蔬菜热带水果柑橘类水果仁果类水果冷冻蔬菜莓果洋葱葡萄包装水果/蔬菜冷冻土豆制品...</td>\n",
       "      <td>7146</td>\n",
       "    </tr>\n",
       "    <tr>\n",
       "      <th>1</th>\n",
       "      <td>熟食</td>\n",
       "      <td>意大利面即食食品白饭汤类成品糖水小吃类食品马铃薯产品即食汤</td>\n",
       "      <td>541</td>\n",
       "    </tr>\n",
       "    <tr>\n",
       "      <th>2</th>\n",
       "      <td>百货</td>\n",
       "      <td>购物袋报纸餐巾卫生用品特制门锁猫食一般清洁剂碗碟盆栽季节性商品保鲜膜/袋厨房清洁剂花卉种子卷...</td>\n",
       "      <td>5141</td>\n",
       "    </tr>\n",
       "    <tr>\n",
       "      <th>3</th>\n",
       "      <td>米粮调料</td>\n",
       "      <td>酸奶油人造黄油黄油凝乳糖冷冻餐饭油发酵粉面粉融化奶酪香草罐头鱼芥末水果奶油涂抹酱罐头蔬菜盐炼...</td>\n",
       "      <td>5185</td>\n",
       "    </tr>\n",
       "    <tr>\n",
       "      <th>4</th>\n",
       "      <td>肉类</td>\n",
       "      <td>香肠本地蛋类冷冻热狗肠猪肉牛肉鸡汉堡肉火腿一般肉类冷冻鱼冷冻甜点火鸡肉泥鱼有机香肠冷冻鸡肉</td>\n",
       "      <td>4870</td>\n",
       "    </tr>\n",
       "  </tbody>\n",
       "</table>\n",
       "</div>"
      ],
      "text/plain": [
       "  Types                                              Goods    id\n",
       "0    果蔬  其他蔬菜根茎类蔬菜热带水果柑橘类水果仁果类水果冷冻蔬菜莓果洋葱葡萄包装水果/蔬菜冷冻土豆制品...  7146\n",
       "1    熟食                      意大利面即食食品白饭汤类成品糖水小吃类食品马铃薯产品即食汤   541\n",
       "2    百货  购物袋报纸餐巾卫生用品特制门锁猫食一般清洁剂碗碟盆栽季节性商品保鲜膜/袋厨房清洁剂花卉种子卷...  5141\n",
       "3  米粮调料  酸奶油人造黄油黄油凝乳糖冷冻餐饭油发酵粉面粉融化奶酪香草罐头鱼芥末水果奶油涂抹酱罐头蔬菜盐炼...  5185\n",
       "4    肉类      香肠本地蛋类冷冻热狗肠猪肉牛肉鸡汉堡肉火腿一般肉类冷冻鱼冷冻甜点火鸡肉泥鱼有机香肠冷冻鸡肉  4870"
      ]
     },
     "execution_count": 57,
     "metadata": {},
     "output_type": "execute_result"
    }
   ],
   "source": [
    "sort_link = sort_links.groupby(['Types']).sum().reset_index()\n",
    "sort_link.head()"
   ]
  },
  {
   "cell_type": "code",
   "execution_count": 58,
   "id": "5586ed47-0cac-47cd-ab23-b934f80706fd",
   "metadata": {},
   "outputs": [
    {
     "data": {
      "text/html": [
       "<div>\n",
       "<style scoped>\n",
       "    .dataframe tbody tr th:only-of-type {\n",
       "        vertical-align: middle;\n",
       "    }\n",
       "\n",
       "    .dataframe tbody tr th {\n",
       "        vertical-align: top;\n",
       "    }\n",
       "\n",
       "    .dataframe thead th {\n",
       "        text-align: right;\n",
       "    }\n",
       "</style>\n",
       "<table border=\"1\" class=\"dataframe\">\n",
       "  <thead>\n",
       "    <tr style=\"text-align: right;\">\n",
       "      <th></th>\n",
       "      <th>index</th>\n",
       "      <th>Types</th>\n",
       "      <th>Goods</th>\n",
       "      <th>id</th>\n",
       "    </tr>\n",
       "  </thead>\n",
       "  <tbody>\n",
       "    <tr>\n",
       "      <th>0</th>\n",
       "      <td>8</td>\n",
       "      <td>非酒精饮料</td>\n",
       "      <td>全脂牛奶苏打瓶装水水果/蔬菜汁咖啡超高温杀菌的牛奶其他饮料一般饮料速溶咖啡茶可可饮料</td>\n",
       "      <td>7594</td>\n",
       "    </tr>\n",
       "    <tr>\n",
       "      <th>1</th>\n",
       "      <td>5</td>\n",
       "      <td>西点</td>\n",
       "      <td>面包卷糕点黑面包白面包奶油乳酪威化饼咸点心长面包甜点酪硬奶酪切片奶酪半成品面包软奶酪风味蛋糕...</td>\n",
       "      <td>7192</td>\n",
       "    </tr>\n",
       "    <tr>\n",
       "      <th>2</th>\n",
       "      <td>0</td>\n",
       "      <td>果蔬</td>\n",
       "      <td>其他蔬菜根茎类蔬菜热带水果柑橘类水果仁果类水果冷冻蔬菜莓果洋葱葡萄包装水果/蔬菜冷冻土豆制品...</td>\n",
       "      <td>7146</td>\n",
       "    </tr>\n",
       "    <tr>\n",
       "      <th>3</th>\n",
       "      <td>3</td>\n",
       "      <td>米粮调料</td>\n",
       "      <td>酸奶油人造黄油黄油凝乳糖冷冻餐饭油发酵粉面粉融化奶酪香草罐头鱼芥末水果奶油涂抹酱罐头蔬菜盐炼...</td>\n",
       "      <td>5185</td>\n",
       "    </tr>\n",
       "    <tr>\n",
       "      <th>4</th>\n",
       "      <td>2</td>\n",
       "      <td>百货</td>\n",
       "      <td>购物袋报纸餐巾卫生用品特制门锁猫食一般清洁剂碗碟盆栽季节性商品保鲜膜/袋厨房清洁剂花卉种子卷...</td>\n",
       "      <td>5141</td>\n",
       "    </tr>\n",
       "  </tbody>\n",
       "</table>\n",
       "</div>"
      ],
      "text/plain": [
       "   index  Types                                              Goods    id\n",
       "0      8  非酒精饮料         全脂牛奶苏打瓶装水水果/蔬菜汁咖啡超高温杀菌的牛奶其他饮料一般饮料速溶咖啡茶可可饮料  7594\n",
       "1      5     西点  面包卷糕点黑面包白面包奶油乳酪威化饼咸点心长面包甜点酪硬奶酪切片奶酪半成品面包软奶酪风味蛋糕...  7192\n",
       "2      0     果蔬  其他蔬菜根茎类蔬菜热带水果柑橘类水果仁果类水果冷冻蔬菜莓果洋葱葡萄包装水果/蔬菜冷冻土豆制品...  7146\n",
       "3      3   米粮调料  酸奶油人造黄油黄油凝乳糖冷冻餐饭油发酵粉面粉融化奶酪香草罐头鱼芥末水果奶油涂抹酱罐头蔬菜盐炼...  5185\n",
       "4      2     百货  购物袋报纸餐巾卫生用品特制门锁猫食一般清洁剂碗碟盆栽季节性商品保鲜膜/袋厨房清洁剂花卉种子卷...  5141"
      ]
     },
     "execution_count": 58,
     "metadata": {},
     "output_type": "execute_result"
    }
   ],
   "source": [
    "sort_link = sort_link.sort_values('id', ascending=False).reset_index()\n",
    "sort_link.head()"
   ]
  },
  {
   "cell_type": "code",
   "execution_count": 59,
   "id": "cefde44c-997f-4515-999e-ded2b7df131d",
   "metadata": {},
   "outputs": [
    {
     "data": {
      "text/html": [
       "<div>\n",
       "<style scoped>\n",
       "    .dataframe tbody tr th:only-of-type {\n",
       "        vertical-align: middle;\n",
       "    }\n",
       "\n",
       "    .dataframe tbody tr th {\n",
       "        vertical-align: top;\n",
       "    }\n",
       "\n",
       "    .dataframe thead th {\n",
       "        text-align: right;\n",
       "    }\n",
       "</style>\n",
       "<table border=\"1\" class=\"dataframe\">\n",
       "  <thead>\n",
       "    <tr style=\"text-align: right;\">\n",
       "      <th></th>\n",
       "      <th>Types</th>\n",
       "      <th>Goods</th>\n",
       "      <th>id</th>\n",
       "    </tr>\n",
       "  </thead>\n",
       "  <tbody>\n",
       "    <tr>\n",
       "      <th>0</th>\n",
       "      <td>非酒精饮料</td>\n",
       "      <td>全脂牛奶苏打瓶装水水果/蔬菜汁咖啡超高温杀菌的牛奶其他饮料一般饮料速溶咖啡茶可可饮料</td>\n",
       "      <td>7594</td>\n",
       "    </tr>\n",
       "    <tr>\n",
       "      <th>1</th>\n",
       "      <td>西点</td>\n",
       "      <td>面包卷糕点黑面包白面包奶油乳酪威化饼咸点心长面包甜点酪硬奶酪切片奶酪半成品面包软奶酪风味蛋糕...</td>\n",
       "      <td>7192</td>\n",
       "    </tr>\n",
       "    <tr>\n",
       "      <th>2</th>\n",
       "      <td>果蔬</td>\n",
       "      <td>其他蔬菜根茎类蔬菜热带水果柑橘类水果仁果类水果冷冻蔬菜莓果洋葱葡萄包装水果/蔬菜冷冻土豆制品...</td>\n",
       "      <td>7146</td>\n",
       "    </tr>\n",
       "    <tr>\n",
       "      <th>3</th>\n",
       "      <td>米粮调料</td>\n",
       "      <td>酸奶油人造黄油黄油凝乳糖冷冻餐饭油发酵粉面粉融化奶酪香草罐头鱼芥末水果奶油涂抹酱罐头蔬菜盐炼...</td>\n",
       "      <td>5185</td>\n",
       "    </tr>\n",
       "    <tr>\n",
       "      <th>4</th>\n",
       "      <td>百货</td>\n",
       "      <td>购物袋报纸餐巾卫生用品特制门锁猫食一般清洁剂碗碟盆栽季节性商品保鲜膜/袋厨房清洁剂花卉种子卷...</td>\n",
       "      <td>5141</td>\n",
       "    </tr>\n",
       "  </tbody>\n",
       "</table>\n",
       "</div>"
      ],
      "text/plain": [
       "   Types                                              Goods    id\n",
       "0  非酒精饮料         全脂牛奶苏打瓶装水水果/蔬菜汁咖啡超高温杀菌的牛奶其他饮料一般饮料速溶咖啡茶可可饮料  7594\n",
       "1     西点  面包卷糕点黑面包白面包奶油乳酪威化饼咸点心长面包甜点酪硬奶酪切片奶酪半成品面包软奶酪风味蛋糕...  7192\n",
       "2     果蔬  其他蔬菜根茎类蔬菜热带水果柑橘类水果仁果类水果冷冻蔬菜莓果洋葱葡萄包装水果/蔬菜冷冻土豆制品...  7146\n",
       "3   米粮调料  酸奶油人造黄油黄油凝乳糖冷冻餐饭油发酵粉面粉融化奶酪香草罐头鱼芥末水果奶油涂抹酱罐头蔬菜盐炼...  5185\n",
       "4     百货  购物袋报纸餐巾卫生用品特制门锁猫食一般清洁剂碗碟盆栽季节性商品保鲜膜/袋厨房清洁剂花卉种子卷...  5141"
      ]
     },
     "execution_count": 59,
     "metadata": {},
     "output_type": "execute_result"
    }
   ],
   "source": [
    "del sort_link['index']\n",
    "sort_link.head()"
   ]
  },
  {
   "cell_type": "markdown",
   "id": "226cb5d3-11c2-4f16-90e7-fe2fa81755a3",
   "metadata": {},
   "source": [
    "## 3.2 求百分比"
   ]
  },
  {
   "cell_type": "code",
   "execution_count": 60,
   "id": "d997d7a3-996b-4e80-83aa-b27d6307782b",
   "metadata": {},
   "outputs": [
    {
     "data": {
      "text/html": [
       "<div>\n",
       "<style scoped>\n",
       "    .dataframe tbody tr th:only-of-type {\n",
       "        vertical-align: middle;\n",
       "    }\n",
       "\n",
       "    .dataframe tbody tr th {\n",
       "        vertical-align: top;\n",
       "    }\n",
       "\n",
       "    .dataframe thead th {\n",
       "        text-align: right;\n",
       "    }\n",
       "</style>\n",
       "<table border=\"1\" class=\"dataframe\">\n",
       "  <thead>\n",
       "    <tr style=\"text-align: right;\">\n",
       "      <th></th>\n",
       "      <th>Types</th>\n",
       "      <th>Goods</th>\n",
       "      <th>id</th>\n",
       "      <th>count</th>\n",
       "    </tr>\n",
       "  </thead>\n",
       "  <tbody>\n",
       "    <tr>\n",
       "      <th>0</th>\n",
       "      <td>非酒精饮料</td>\n",
       "      <td>全脂牛奶苏打瓶装水水果/蔬菜汁咖啡超高温杀菌的牛奶其他饮料一般饮料速溶咖啡茶可可饮料</td>\n",
       "      <td>7594</td>\n",
       "      <td>0.175110</td>\n",
       "    </tr>\n",
       "    <tr>\n",
       "      <th>1</th>\n",
       "      <td>西点</td>\n",
       "      <td>面包卷糕点黑面包白面包奶油乳酪威化饼咸点心长面包甜点酪硬奶酪切片奶酪半成品面包软奶酪风味蛋糕...</td>\n",
       "      <td>7192</td>\n",
       "      <td>0.165840</td>\n",
       "    </tr>\n",
       "    <tr>\n",
       "      <th>2</th>\n",
       "      <td>果蔬</td>\n",
       "      <td>其他蔬菜根茎类蔬菜热带水果柑橘类水果仁果类水果冷冻蔬菜莓果洋葱葡萄包装水果/蔬菜冷冻土豆制品...</td>\n",
       "      <td>7146</td>\n",
       "      <td>0.164780</td>\n",
       "    </tr>\n",
       "    <tr>\n",
       "      <th>3</th>\n",
       "      <td>米粮调料</td>\n",
       "      <td>酸奶油人造黄油黄油凝乳糖冷冻餐饭油发酵粉面粉融化奶酪香草罐头鱼芥末水果奶油涂抹酱罐头蔬菜盐炼...</td>\n",
       "      <td>5185</td>\n",
       "      <td>0.119561</td>\n",
       "    </tr>\n",
       "    <tr>\n",
       "      <th>4</th>\n",
       "      <td>百货</td>\n",
       "      <td>购物袋报纸餐巾卫生用品特制门锁猫食一般清洁剂碗碟盆栽季节性商品保鲜膜/袋厨房清洁剂花卉种子卷...</td>\n",
       "      <td>5141</td>\n",
       "      <td>0.118546</td>\n",
       "    </tr>\n",
       "  </tbody>\n",
       "</table>\n",
       "</div>"
      ],
      "text/plain": [
       "   Types                                              Goods    id     count\n",
       "0  非酒精饮料         全脂牛奶苏打瓶装水水果/蔬菜汁咖啡超高温杀菌的牛奶其他饮料一般饮料速溶咖啡茶可可饮料  7594  0.175110\n",
       "1     西点  面包卷糕点黑面包白面包奶油乳酪威化饼咸点心长面包甜点酪硬奶酪切片奶酪半成品面包软奶酪风味蛋糕...  7192  0.165840\n",
       "2     果蔬  其他蔬菜根茎类蔬菜热带水果柑橘类水果仁果类水果冷冻蔬菜莓果洋葱葡萄包装水果/蔬菜冷冻土豆制品...  7146  0.164780\n",
       "3   米粮调料  酸奶油人造黄油黄油凝乳糖冷冻餐饭油发酵粉面粉融化奶酪香草罐头鱼芥末水果奶油涂抹酱罐头蔬菜盐炼...  5185  0.119561\n",
       "4     百货  购物袋报纸餐巾卫生用品特制门锁猫食一般清洁剂碗碟盆栽季节性商品保鲜膜/袋厨房清洁剂花卉种子卷...  5141  0.118546"
      ]
     },
     "execution_count": 60,
     "metadata": {},
     "output_type": "execute_result"
    }
   ],
   "source": [
    "sort_link['count'] = sort_link.apply(lambda line: line['id']/data_nums, axis=1)\n",
    "sort_link.head()"
   ]
  },
  {
   "cell_type": "code",
   "execution_count": 61,
   "id": "ee97d5fe-9ee6-4325-8a63-29a2751304e1",
   "metadata": {},
   "outputs": [
    {
     "data": {
      "text/html": [
       "<div>\n",
       "<style scoped>\n",
       "    .dataframe tbody tr th:only-of-type {\n",
       "        vertical-align: middle;\n",
       "    }\n",
       "\n",
       "    .dataframe tbody tr th {\n",
       "        vertical-align: top;\n",
       "    }\n",
       "\n",
       "    .dataframe thead th {\n",
       "        text-align: right;\n",
       "    }\n",
       "</style>\n",
       "<table border=\"1\" class=\"dataframe\">\n",
       "  <thead>\n",
       "    <tr style=\"text-align: right;\">\n",
       "      <th></th>\n",
       "      <th>Types</th>\n",
       "      <th>Goods</th>\n",
       "      <th>id</th>\n",
       "      <th>percent</th>\n",
       "    </tr>\n",
       "  </thead>\n",
       "  <tbody>\n",
       "    <tr>\n",
       "      <th>0</th>\n",
       "      <td>非酒精饮料</td>\n",
       "      <td>全脂牛奶苏打瓶装水水果/蔬菜汁咖啡超高温杀菌的牛奶其他饮料一般饮料速溶咖啡茶可可饮料</td>\n",
       "      <td>7594</td>\n",
       "      <td>0.175110</td>\n",
       "    </tr>\n",
       "    <tr>\n",
       "      <th>1</th>\n",
       "      <td>西点</td>\n",
       "      <td>面包卷糕点黑面包白面包奶油乳酪威化饼咸点心长面包甜点酪硬奶酪切片奶酪半成品面包软奶酪风味蛋糕...</td>\n",
       "      <td>7192</td>\n",
       "      <td>0.165840</td>\n",
       "    </tr>\n",
       "    <tr>\n",
       "      <th>2</th>\n",
       "      <td>果蔬</td>\n",
       "      <td>其他蔬菜根茎类蔬菜热带水果柑橘类水果仁果类水果冷冻蔬菜莓果洋葱葡萄包装水果/蔬菜冷冻土豆制品...</td>\n",
       "      <td>7146</td>\n",
       "      <td>0.164780</td>\n",
       "    </tr>\n",
       "    <tr>\n",
       "      <th>3</th>\n",
       "      <td>米粮调料</td>\n",
       "      <td>酸奶油人造黄油黄油凝乳糖冷冻餐饭油发酵粉面粉融化奶酪香草罐头鱼芥末水果奶油涂抹酱罐头蔬菜盐炼...</td>\n",
       "      <td>5185</td>\n",
       "      <td>0.119561</td>\n",
       "    </tr>\n",
       "    <tr>\n",
       "      <th>4</th>\n",
       "      <td>百货</td>\n",
       "      <td>购物袋报纸餐巾卫生用品特制门锁猫食一般清洁剂碗碟盆栽季节性商品保鲜膜/袋厨房清洁剂花卉种子卷...</td>\n",
       "      <td>5141</td>\n",
       "      <td>0.118546</td>\n",
       "    </tr>\n",
       "    <tr>\n",
       "      <th>5</th>\n",
       "      <td>肉类</td>\n",
       "      <td>香肠本地蛋类冷冻热狗肠猪肉牛肉鸡汉堡肉火腿一般肉类冷冻鱼冷冻甜点火鸡肉泥鱼有机香肠冷冻鸡肉</td>\n",
       "      <td>4870</td>\n",
       "      <td>0.112297</td>\n",
       "    </tr>\n",
       "    <tr>\n",
       "      <th>6</th>\n",
       "      <td>酒精饮料</td>\n",
       "      <td>瓶装啤酒罐装啤酒粉红葡萄酒白酒烈酒开胃酒起泡酒朗姆酒白兰地普罗赛克葡萄酒威士忌酒</td>\n",
       "      <td>2287</td>\n",
       "      <td>0.052736</td>\n",
       "    </tr>\n",
       "    <tr>\n",
       "      <th>7</th>\n",
       "      <td>食品类</td>\n",
       "      <td>酸奶特色巧克力腌菜小食</td>\n",
       "      <td>1870</td>\n",
       "      <td>0.043120</td>\n",
       "    </tr>\n",
       "    <tr>\n",
       "      <th>8</th>\n",
       "      <td>零食</td>\n",
       "      <td>巧克力糖果冰淇淋口香糖巧克力棉花糖爆米花坚果/李子坚果小吃</td>\n",
       "      <td>1459</td>\n",
       "      <td>0.033643</td>\n",
       "    </tr>\n",
       "    <tr>\n",
       "      <th>9</th>\n",
       "      <td>熟食</td>\n",
       "      <td>意大利面即食食品白饭汤类成品糖水小吃类食品马铃薯产品即食汤</td>\n",
       "      <td>541</td>\n",
       "      <td>0.012475</td>\n",
       "    </tr>\n",
       "  </tbody>\n",
       "</table>\n",
       "</div>"
      ],
      "text/plain": [
       "   Types                                              Goods    id   percent\n",
       "0  非酒精饮料         全脂牛奶苏打瓶装水水果/蔬菜汁咖啡超高温杀菌的牛奶其他饮料一般饮料速溶咖啡茶可可饮料  7594  0.175110\n",
       "1     西点  面包卷糕点黑面包白面包奶油乳酪威化饼咸点心长面包甜点酪硬奶酪切片奶酪半成品面包软奶酪风味蛋糕...  7192  0.165840\n",
       "2     果蔬  其他蔬菜根茎类蔬菜热带水果柑橘类水果仁果类水果冷冻蔬菜莓果洋葱葡萄包装水果/蔬菜冷冻土豆制品...  7146  0.164780\n",
       "3   米粮调料  酸奶油人造黄油黄油凝乳糖冷冻餐饭油发酵粉面粉融化奶酪香草罐头鱼芥末水果奶油涂抹酱罐头蔬菜盐炼...  5185  0.119561\n",
       "4     百货  购物袋报纸餐巾卫生用品特制门锁猫食一般清洁剂碗碟盆栽季节性商品保鲜膜/袋厨房清洁剂花卉种子卷...  5141  0.118546\n",
       "5     肉类      香肠本地蛋类冷冻热狗肠猪肉牛肉鸡汉堡肉火腿一般肉类冷冻鱼冷冻甜点火鸡肉泥鱼有机香肠冷冻鸡肉  4870  0.112297\n",
       "6   酒精饮料           瓶装啤酒罐装啤酒粉红葡萄酒白酒烈酒开胃酒起泡酒朗姆酒白兰地普罗赛克葡萄酒威士忌酒  2287  0.052736\n",
       "7    食品类                                        酸奶特色巧克力腌菜小食  1870  0.043120\n",
       "8     零食                      巧克力糖果冰淇淋口香糖巧克力棉花糖爆米花坚果/李子坚果小吃  1459  0.033643\n",
       "9     熟食                      意大利面即食食品白饭汤类成品糖水小吃类食品马铃薯产品即食汤   541  0.012475"
      ]
     },
     "execution_count": 61,
     "metadata": {},
     "output_type": "execute_result"
    }
   ],
   "source": [
    "sort_link.rename(columns={'count': 'percent'}, inplace=True)\n",
    "sort_link"
   ]
  },
  {
   "cell_type": "code",
   "execution_count": 62,
   "id": "2bbd1ac7-2fc4-4b3c-bae2-87c5b61ea0fe",
   "metadata": {},
   "outputs": [],
   "source": [
    "outfile1 = \"./tmp/percent.csv\"\n",
    "sort_link.to_csv(outfile1, index=False, header=True)"
   ]
  },
  {
   "cell_type": "markdown",
   "id": "6e7a9754-5098-492f-a161-925b2d1d7051",
   "metadata": {},
   "source": [
    "## 3.3 可视化分析"
   ]
  },
  {
   "cell_type": "code",
   "execution_count": 63,
   "id": "47b81c01-762d-4f39-8908-741159545471",
   "metadata": {},
   "outputs": [],
   "source": [
    "import matplotlib.pyplot as plt\n",
    "%matplotlib inline"
   ]
  },
  {
   "cell_type": "code",
   "execution_count": 64,
   "id": "b47e488a-5d6f-4df2-8e70-f191de20676c",
   "metadata": {},
   "outputs": [
    {
     "data": {
      "image/png": "[encoded data removed]",
      "text/plain": [
       "<Figure size 800x600 with 1 Axes>"
      ]
     },
     "metadata": {},
     "output_type": "display_data"
    }
   ],
   "source": [
    "data = sort_link['percent']\n",
    "labels = sort_link['Types']\n",
    "plt.figure(figsize=(8, 6))  # 设置画布大小\n",
    "plt.pie(data,labels=labels,autopct='%1.2f%%')\n",
    "plt.title('每类商品销量占比')  # 设置标题\n",
    "plt.savefig('./tmp/persent.png')  # 把图片以.png格式保存\n",
    "plt.show()"
   ]
  },
  {
   "cell_type": "markdown",
   "id": "40965637-b3e0-474c-b43a-d56c25275efe",
   "metadata": {},
   "source": [
    "# 4.非酒精饮料内部商品的销量及占比"
   ]
  },
  {
   "cell_type": "code",
   "execution_count": 73,
   "id": "2f85184b-8d31-4e3a-9916-9317d63eaeaa",
   "metadata": {},
   "outputs": [
    {
     "name": "stdout",
     "output_type": "stream",
     "text": [
      "果蔬内部商品的销量及其占比:\n",
      "        Goods  count Types  child_percent\n",
      "1       其他蔬菜   1903    果蔬       0.266303\n",
      "6      根茎类蔬菜   1072    果蔬       0.150014\n",
      "7       热带水果   1032    果蔬       0.144416\n",
      "11     柑橘类水果    814    果蔬       0.113910\n",
      "15     仁果类水果    744    果蔬       0.104114\n",
      "29      冷冻蔬菜    473    果蔬       0.066191\n",
      "39        莓果    327    果蔬       0.045760\n",
      "42        洋葱    305    果蔬       0.042681\n",
      "57        葡萄    220    果蔬       0.030786\n",
      "75   包装水果/蔬菜    128    果蔬       0.017912\n",
      "96    冷冻土豆制品     83    果蔬       0.011615\n",
      "148     特色蔬菜     17    果蔬       0.002379\n",
      "149     有机蔬菜     16    果蔬       0.002239\n",
      "153     冷冻水果     12    果蔬       0.001679\n"
     ]
    },
    {
     "name": "stderr",
     "output_type": "stream",
     "text": [
      "/tmp/ipykernel_40286/2659058431.py:3: SettingWithCopyWarning: \n",
      "A value is trying to be set on a copy of a slice from a DataFrame.\n",
      "Try using .loc[row_indexer,col_indexer] = value instead\n",
      "\n",
      "See the caveats in the documentation: https://pandas.pydata.org/pandas-docs/stable/user_guide/indexing.html#returning-a-view-versus-a-copy\n",
      "  selected['child_percent'] = selected.apply(lambda line: line['id']/child_nums,axis = 1)  # 求百分比\n",
      "/tmp/ipykernel_40286/2659058431.py:4: SettingWithCopyWarning: \n",
      "A value is trying to be set on a copy of a slice from a DataFrame\n",
      "\n",
      "See the caveats in the documentation: https://pandas.pydata.org/pandas-docs/stable/user_guide/indexing.html#returning-a-view-versus-a-copy\n",
      "  selected.rename(columns = {'id':'count'}, inplace = True)\n"
     ]
    }
   ],
   "source": [
    "selected = sort_links.loc[sort_links['Types'] == '果蔬']  \n",
    "child_nums = selected['id'].sum()  \n",
    "selected['child_percent'] = selected.apply(lambda line: line['id']/child_nums,axis = 1)  # 求百分比\n",
    "selected.rename(columns = {'id':'count'}, inplace = True)\n",
    "print('果蔬内部商品的销量及其占比:\\n', selected)\n",
    "outfile2 = './tmp/child_percent.csv'\n",
    "sort_link.to_csv(outfile2,index = False,header = True)  # 输出结果"
   ]
  },
  {
   "cell_type": "markdown",
   "id": "bf56db0d-8cc2-4479-991e-0b034f4c9458",
   "metadata": {},
   "source": [
    "## 4.1 可视化分析"
   ]
  },
  {
   "cell_type": "code",
   "execution_count": 78,
   "id": "b89befec-e1b9-4a91-8e9c-19d5ebcd86ea",
   "metadata": {},
   "outputs": [
    {
     "data": {
      "image/png": "[encoded data removed]",
      "text/plain": [
       "<Figure size 800x600 with 1 Axes>"
      ]
     },
     "metadata": {},
     "output_type": "display_data"
    }
   ],
   "source": [
    "import matplotlib.pyplot as plt\n",
    "%matplotlib inline\n",
    "data = selected['child_percent']\n",
    "labels = selected['Goods']\n",
    "plt.figure(figsize = (8,6))  # 设置画布大小\n",
    "explode = (0.02,0.03,0.04,0.05,0.06,0.07,0.08,0.08,0.3,0.1,0.3,0.1,0.1,0.1)  # 设置每一块分割出的间隙大小\n",
    "plt.pie(data,explode = explode,labels = labels,autopct = '%1.2f%%',\n",
    "        pctdistance = 1.1,labeldistance = 1.2)\n",
    "plt.title(\"果蔬内部各商品的销量占比\")  # 设置标题\n",
    "plt.axis('equal')\n",
    "plt.savefig('./tmp/child_persent.png')  # 保存图形\n",
    "plt.show()  # 展示图形"
   ]
  },
  {
   "cell_type": "code",
   "execution_count": null,
   "id": "8c020166-9a1f-4027-9595-fb3bb4c13cb0",
   "metadata": {},
   "outputs": [],
   "source": []
  }
 ],
 "metadata": {
  "kernelspec": {
   "display_name": "Python 3 (ipykernel)",
   "language": "python",
   "name": "python3"
  },
  "language_info": {
   "codemirror_mode": {
    "name": "ipython",
    "version": 3
   },
   "file_extension": ".py",
   "mimetype": "text/x-python",
   "name": "python",
   "nbconvert_exporter": "python",
   "pygments_lexer": "ipython3",
   "version": "3.12.4"
  }
 },
 "nbformat": 4,
 "nbformat_minor": 5
}
